{
 "cells": [
  {
   "cell_type": "code",
   "execution_count": 4,
   "metadata": {},
   "outputs": [
    {
     "name": "stdout",
     "output_type": "stream",
     "text": [
      "Encrypted: FKXAGUJ\n",
      "Decrypted: DIVYESH\n"
     ]
    }
   ],
   "source": [
    "def encryption(text, shift):\n",
    "    encrypted_text = []\n",
    "    for char in text:\n",
    "        if char.isalpha():  # Check if character is a letter\n",
    "            shifted = ord(char) - ord('A')\n",
    "            encrypted_char = chr(((shifted + shift) % 26) + ord('A'))\n",
    "            encrypted_text.append(encrypted_char)\n",
    "        else:\n",
    "            encrypted_text.append(char)\n",
    "    return ''.join(encrypted_text)\n",
    "\n",
    "def decryption(encrypted_text, shift):\n",
    "    decrypted_text = []\n",
    "    for char in encrypted_text:\n",
    "        if char.isalpha():  # Check if character is a letter\n",
    "            shifted = ord(char) - ord('A')\n",
    "            decrypted_char = chr(((shifted - shift) % 26) + ord('A'))\n",
    "            decrypted_text.append(decrypted_char)\n",
    "        else:\n",
    "            decrypted_text.append(char)\n",
    "    return ''.join(decrypted_text)\n",
    "\n",
    "# Input from the user\n",
    "plain_text = input(\"Enter the text to encrypt: \").upper()\n",
    "shift = int(input(\"Enter the shift value (a number between 1 and 25): \"))\n",
    "\n",
    "# Encrypt the input text\n",
    "encrypted_text = encryption(plain_text, shift)\n",
    "print(\"Encrypted:\",encrypted_text)\n",
    "\n",
    "# Decrypt the encrypted text\n",
    "decrypted_text = decryption(encrypted_text, shift)\n",
    "print(\"Decrypted:\",decrypted_text)"
   ]
  }
 ],
 "metadata": {
  "kernelspec": {
   "display_name": "Python 3",
   "language": "python",
   "name": "python3"
  },
  "language_info": {
   "codemirror_mode": {
    "name": "ipython",
    "version": 3
   },
   "file_extension": ".py",
   "mimetype": "text/x-python",
   "name": "python",
   "nbconvert_exporter": "python",
   "pygments_lexer": "ipython3",
   "version": "3.12.4"
  }
 },
 "nbformat": 4,
 "nbformat_minor": 2
}
